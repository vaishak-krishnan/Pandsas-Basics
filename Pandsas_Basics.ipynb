{
  "nbformat": 4,
  "nbformat_minor": 0,
  "metadata": {
    "colab": {
      "provenance": [],
      "authorship_tag": "ABX9TyOiY1CpGQTiQKn83cFAIHV5",
      "include_colab_link": true
    },
    "kernelspec": {
      "name": "python3",
      "display_name": "Python 3"
    },
    "language_info": {
      "name": "python"
    }
  },
  "cells": [
    {
      "cell_type": "markdown",
      "metadata": {
        "id": "view-in-github",
        "colab_type": "text"
      },
      "source": [
        "<a href=\"https://colab.research.google.com/github/vaishak-krishnan/Pandsas-Basics/blob/main/Pandsas_Basics.ipynb\" target=\"_parent\"><img src=\"https://colab.research.google.com/assets/colab-badge.svg\" alt=\"Open In Colab\"/></a>"
      ]
    },
    {
      "cell_type": "code",
      "execution_count": null,
      "metadata": {
        "id": "GqDt0DLCiL44",
        "colab": {
          "base_uri": "https://localhost:8080/"
        },
        "outputId": "44f14657-2657-4000-e9bc-f5ef12b0f9ad"
      },
      "outputs": [
        {
          "output_type": "stream",
          "name": "stdout",
          "text": [
            "Apple\n",
            "Orange\n",
            "Grape\n",
            "Pineapple\n"
          ]
        }
      ],
      "source": [
        "##Series in pands\n",
        "import pandas as pd\n",
        "A = ['Apple','Orange','Grape','Pineapple']\n",
        "pd.Series(A)\n",
        "print(A[0])\n",
        "print(A[1])\n",
        "print(A[2])\n",
        "print(A[3])"
      ]
    },
    {
      "cell_type": "code",
      "source": [
        "## indexing using dictionary\n",
        "d={'a':0,'b':1,'c':2}\n",
        "pd.Series(d)\n"
      ],
      "metadata": {
        "colab": {
          "base_uri": "https://localhost:8080/"
        },
        "id": "miqxYVKdkgN5",
        "outputId": "e0c912ec-61a4-4df4-8a9c-65c866e4870c"
      },
      "execution_count": null,
      "outputs": [
        {
          "output_type": "execute_result",
          "data": {
            "text/plain": [
              "a    0\n",
              "b    1\n",
              "c    2\n",
              "dtype: int64"
            ]
          },
          "metadata": {},
          "execution_count": 21
        }
      ]
    },
    {
      "cell_type": "code",
      "source": [
        "##Slicing of a series\n",
        "A=[1,2,3,4,5,6,7,8,9,0]\n",
        "pd.Series(A,index=['a','b','c','d','e','f','g','h','i','j'])\n",
        "print(A[0])\n",
        "print(A[1:])\n",
        "print(A[2:7])\n",
        "print(A[:6])"
      ],
      "metadata": {
        "colab": {
          "base_uri": "https://localhost:8080/"
        },
        "id": "cKpa9nWemdK5",
        "outputId": "8d77a530-addb-4296-f263-a812ecd35745"
      },
      "execution_count": null,
      "outputs": [
        {
          "output_type": "stream",
          "name": "stdout",
          "text": [
            "1\n",
            "[2, 3, 4, 5, 6, 7, 8, 9, 0]\n",
            "[3, 4, 5, 6, 7]\n",
            "[1, 2, 3, 4, 5, 6]\n"
          ]
        }
      ]
    },
    {
      "cell_type": "code",
      "source": [
        "##2D dataframe\n",
        "A=[(1,2,3,4,5),(5,6,7,8,9),(10,11,12,13,14)]\n",
        "s=pd.DataFrame(A)\n",
        "print(s)\n",
        "print(s[1][2])"
      ],
      "metadata": {
        "colab": {
          "base_uri": "https://localhost:8080/"
        },
        "id": "UdlU10iLpitv",
        "outputId": "abea14c3-f996-4931-adb8-4cd0c47e9ebb"
      },
      "execution_count": null,
      "outputs": [
        {
          "output_type": "stream",
          "name": "stdout",
          "text": [
            "    0   1   2   3   4\n",
            "0   1   2   3   4   5\n",
            "1   5   6   7   8   9\n",
            "2  10  11  12  13  14\n",
            "11\n"
          ]
        }
      ]
    },
    {
      "cell_type": "code",
      "source": [
        "A=[1,2,3]\n",
        "B=[4,5,6]\n",
        "S=pd.DataFrame({'one':pd.Series(A),'two':pd.Series(B)})\n",
        "print(S)\n"
      ],
      "metadata": {
        "colab": {
          "base_uri": "https://localhost:8080/"
        },
        "id": "_MDz8I5mu6BD",
        "outputId": "f767ad37-bacc-4c97-eeea-f7539c175488"
      },
      "execution_count": null,
      "outputs": [
        {
          "output_type": "stream",
          "name": "stdout",
          "text": [
            "   one  two\n",
            "0    1    4\n",
            "1    2    5\n",
            "2    3    6\n"
          ]
        }
      ]
    },
    {
      "cell_type": "code",
      "source": [
        "A=[1,2,3]\n",
        "B=[4,5,6]\n",
        "S=[(A),(B)]\n",
        "T=pd.DataFrame(S)\n",
        "print(T)\n",
        "print(T[0][1],T[1][1],T[2][1])\n",
        "print('Sliced Matrix')\n",
        "print(T[1:][1:])\n"
      ],
      "metadata": {
        "colab": {
          "base_uri": "https://localhost:8080/"
        },
        "id": "EiB6nJkzyHSm",
        "outputId": "c13ea420-1990-448c-f773-eedefb1002f5"
      },
      "execution_count": null,
      "outputs": [
        {
          "output_type": "stream",
          "name": "stdout",
          "text": [
            "   0  1  2\n",
            "0  1  2  3\n",
            "1  4  5  6\n",
            "4 5 6\n",
            "Sliced Matrix\n",
            "Empty DataFrame\n",
            "Columns: [0, 1, 2]\n",
            "Index: []\n"
          ]
        }
      ]
    }
  ]
}